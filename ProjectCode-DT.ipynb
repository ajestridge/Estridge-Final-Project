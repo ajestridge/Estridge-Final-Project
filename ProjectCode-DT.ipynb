{
 "cells": [
  {
   "cell_type": "code",
   "execution_count": 21,
   "metadata": {},
   "outputs": [
    {
     "name": "stdout",
     "output_type": "stream",
     "text": [
      "0.5852813852813853 {'criterion': 'gini', 'max_features': 'auto', 'min_samples_split': 2}\n",
      "0.6181818181818182 {'criterion': 'gini', 'max_features': 'auto', 'min_samples_split': 3}\n",
      "0.603030303030303 {'criterion': 'gini', 'max_features': 'auto', 'min_samples_split': 4}\n",
      "0.5458874458874459 {'criterion': 'gini', 'max_features': 'auto', 'min_samples_split': 5}\n",
      "0.5567099567099567 {'criterion': 'gini', 'max_features': 'sqrt', 'min_samples_split': 2}\n",
      "0.5367965367965367 {'criterion': 'gini', 'max_features': 'sqrt', 'min_samples_split': 3}\n",
      "0.5848484848484847 {'criterion': 'gini', 'max_features': 'sqrt', 'min_samples_split': 4}\n",
      "0.5835497835497835 {'criterion': 'gini', 'max_features': 'sqrt', 'min_samples_split': 5}\n",
      "0.6307359307359308 {'criterion': 'gini', 'max_features': 'log2', 'min_samples_split': 2}\n",
      "0.5740259740259741 {'criterion': 'gini', 'max_features': 'log2', 'min_samples_split': 3}\n",
      "0.5554112554112554 {'criterion': 'gini', 'max_features': 'log2', 'min_samples_split': 4}\n",
      "0.6034632034632035 {'criterion': 'gini', 'max_features': 'log2', 'min_samples_split': 5}\n",
      "0.6112554112554113 {'criterion': 'entropy', 'max_features': 'auto', 'min_samples_split': 2}\n",
      "0.5835497835497835 {'criterion': 'entropy', 'max_features': 'auto', 'min_samples_split': 3}\n",
      "0.5363636363636364 {'criterion': 'entropy', 'max_features': 'auto', 'min_samples_split': 4}\n",
      "0.5558441558441558 {'criterion': 'entropy', 'max_features': 'auto', 'min_samples_split': 5}\n",
      "0.4735930735930737 {'criterion': 'entropy', 'max_features': 'sqrt', 'min_samples_split': 2}\n",
      "0.5385281385281385 {'criterion': 'entropy', 'max_features': 'sqrt', 'min_samples_split': 3}\n",
      "0.5376623376623376 {'criterion': 'entropy', 'max_features': 'sqrt', 'min_samples_split': 4}\n",
      "0.5748917748917749 {'criterion': 'entropy', 'max_features': 'sqrt', 'min_samples_split': 5}\n",
      "0.6112554112554113 {'criterion': 'entropy', 'max_features': 'log2', 'min_samples_split': 2}\n",
      "0.5190476190476191 {'criterion': 'entropy', 'max_features': 'log2', 'min_samples_split': 3}\n",
      "0.6103896103896104 {'criterion': 'entropy', 'max_features': 'log2', 'min_samples_split': 4}\n",
      "0.6116883116883116 {'criterion': 'entropy', 'max_features': 'log2', 'min_samples_split': 5}\n",
      "y_hat: [1 1 1 1 1 1 0 1 1 1 1 0 1 0 1 1 1 0 0 1 0 1 0 0 0 1 1]\n",
      "y_test: [1 1 1 1 1 1 0 1 1 1 0 1 0 0 1 1 0 1 1 1 0 1 1 0 0 1 0]\n",
      "0.7037037037037037\n"
     ]
    },
    {
     "data": {
      "text/plain": [
       "['Decison_Tree.sav']"
      ]
     },
     "execution_count": 21,
     "metadata": {},
     "output_type": "execute_result"
    }
   ],
   "source": [
    "import pandas as pd\n",
    "import numpy as np\n",
    "from sklearn.svm import SVC\n",
    "from sklearn.ensemble import RandomForestClassifier\n",
    "from sklearn.linear_model import SGDClassifier\n",
    "from sklearn.model_selection import cross_val_predict\n",
    "from sklearn.ensemble import AdaBoostClassifier\n",
    "import joblib\n",
    "from sklearn.metrics import precision_score\n",
    "from sklearn.metrics import recall_score\n",
    "from sklearn.metrics import f1_score\n",
    "from sklearn.metrics import accuracy_score\n",
    "from sklearn.utils import shuffle\n",
    "from sklearn.model_selection import train_test_split\n",
    "from sklearn.tree import DecisionTreeClassifier\n",
    "\n",
    "#read in the data\n",
    "df = pd.read_excel('nfl.xlsx')\n",
    "x = df[df.columns[:-1]].to_numpy()\n",
    "y = df[df.columns[-1]].to_numpy()\n",
    "\n",
    "#split the data into training and test sets\n",
    "X_train, X_test, y_train, y_test = train_test_split(x, y, test_size=0.2, random_state=10)\n",
    "\n",
    "from sklearn.model_selection import GridSearchCV\n",
    "\n",
    "# hyperparameter grid\n",
    "hp_grid = [{'criterion':[\"gini\", \"entropy\"], 'min_samples_split':[2, 3, 4, 5], 'max_features':['auto', 'sqrt', 'log2']}]\n",
    "\n",
    "# create the model\n",
    "model = DecisionTreeClassifier()\n",
    "\n",
    "# create the grid object\n",
    "grid_search = GridSearchCV(model, hp_grid, cv=5, scoring='accuracy', return_train_score=False)\n",
    "\n",
    "\n",
    "# grid search\n",
    "grid_search.fit(X_train, y_train)\n",
    "results = grid_search.cv_results_\n",
    "\n",
    "#print results\n",
    "for mean_score, params in zip(results['mean_test_score'], results['params']):\n",
    "       print(mean_score, params)\n",
    "\n",
    "#store the best model into the variable the_best\n",
    "the_best = grid_search.best_estimator_\n",
    "classifier = the_best.fit(X_train, y_train)\n",
    "\n",
    "#store predictions in y_hat\n",
    "y_hat = classifier.predict(X_test)\n",
    "\n",
    "print(\"y_hat:\", y_hat)\n",
    "print(\"y_test:\", y_test)\n",
    "print(accuracy_score(y_hat, y_test))\n",
    "\n",
    "filename = 'Decison_Tree.sav'\n",
    "#joblib.dump(classifier, filename)"
   ]
  }
 ],
 "metadata": {
  "kernelspec": {
   "display_name": "Python 3",
   "language": "python",
   "name": "python3"
  },
  "language_info": {
   "codemirror_mode": {
    "name": "ipython",
    "version": 3
   },
   "file_extension": ".py",
   "mimetype": "text/x-python",
   "name": "python",
   "nbconvert_exporter": "python",
   "pygments_lexer": "ipython3",
   "version": "3.8.5"
  }
 },
 "nbformat": 4,
 "nbformat_minor": 4
}
