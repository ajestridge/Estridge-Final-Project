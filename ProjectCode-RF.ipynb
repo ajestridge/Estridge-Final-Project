{
 "cells": [
  {
   "cell_type": "code",
   "execution_count": 24,
   "metadata": {},
   "outputs": [
    {
     "name": "stdout",
     "output_type": "stream",
     "text": [
      "0.6108225108225108 {'criterion': 'gini', 'max_features': 'auto', 'min_samples_split': 2}\n",
      "0.5839826839826839 {'criterion': 'gini', 'max_features': 'auto', 'min_samples_split': 3}\n",
      "0.6112554112554112 {'criterion': 'gini', 'max_features': 'auto', 'min_samples_split': 4}\n",
      "0.6294372294372295 {'criterion': 'gini', 'max_features': 'sqrt', 'min_samples_split': 2}\n",
      "0.583116883116883 {'criterion': 'gini', 'max_features': 'sqrt', 'min_samples_split': 3}\n",
      "0.6294372294372295 {'criterion': 'gini', 'max_features': 'sqrt', 'min_samples_split': 4}\n",
      "0.6298701298701298 {'criterion': 'gini', 'max_features': 'log2', 'min_samples_split': 2}\n",
      "0.6303030303030303 {'criterion': 'gini', 'max_features': 'log2', 'min_samples_split': 3}\n",
      "0.5645021645021645 {'criterion': 'gini', 'max_features': 'log2', 'min_samples_split': 4}\n",
      "0.6203463203463203 {'criterion': 'entropy', 'max_features': 'auto', 'min_samples_split': 2}\n",
      "0.6203463203463203 {'criterion': 'entropy', 'max_features': 'auto', 'min_samples_split': 3}\n",
      "0.5835497835497835 {'criterion': 'entropy', 'max_features': 'auto', 'min_samples_split': 4}\n",
      "0.5735930735930735 {'criterion': 'entropy', 'max_features': 'sqrt', 'min_samples_split': 2}\n",
      "0.629004329004329 {'criterion': 'entropy', 'max_features': 'sqrt', 'min_samples_split': 3}\n",
      "0.6017316017316017 {'criterion': 'entropy', 'max_features': 'sqrt', 'min_samples_split': 4}\n",
      "0.574025974025974 {'criterion': 'entropy', 'max_features': 'log2', 'min_samples_split': 2}\n",
      "0.6017316017316017 {'criterion': 'entropy', 'max_features': 'log2', 'min_samples_split': 3}\n",
      "0.5835497835497835 {'criterion': 'entropy', 'max_features': 'log2', 'min_samples_split': 4}\n",
      "y_hat: [0 1 1 0 1 1 1 1 1 0 1 1 1 0 0 0 1 0 1 1 1 0 1 1 1 1 1]\n",
      "y_test: [0 1 0 1 1 1 1 1 1 1 1 0 1 1 0 1 0 1 1 0 1 1 1 1 1 1 1]\n",
      "0.6296296296296297\n"
     ]
    },
    {
     "data": {
      "text/plain": [
       "['RF_model.sav']"
      ]
     },
     "execution_count": 24,
     "metadata": {},
     "output_type": "execute_result"
    }
   ],
   "source": [
    "import pandas as pd\n",
    "import numpy as np\n",
    "from sklearn.svm import SVC\n",
    "from sklearn.ensemble import RandomForestClassifier\n",
    "from sklearn.linear_model import SGDClassifier\n",
    "from sklearn.model_selection import cross_val_predict\n",
    "from sklearn.ensemble import AdaBoostClassifier\n",
    "import joblib\n",
    "from sklearn.metrics import precision_score\n",
    "from sklearn.metrics import recall_score\n",
    "from sklearn.metrics import f1_score\n",
    "from sklearn.metrics import accuracy_score\n",
    "from sklearn.utils import shuffle\n",
    "from sklearn.model_selection import train_test_split\n",
    "\n",
    "#Read in the data from nfl.xlsx\n",
    "df = pd.read_excel('nfl.xlsx')\n",
    "\n",
    "#Create x and y where y is the target and x is the data\n",
    "x = df[df.columns[:-1]].to_numpy()\n",
    "y = df[df.columns[-1]].to_numpy()\n",
    "\n",
    "#split x and y into trianing and testing sets\n",
    "X_train, X_test, y_train, y_test = train_test_split(x, y, test_size=0.2, random_state=33) #33\n",
    "\n",
    "from sklearn.model_selection import GridSearchCV\n",
    "\n",
    "# hyperparameter grid\n",
    "hp_grid = [{'criterion':['gini', 'entropy'], 'min_samples_split':[2, 3, 4], 'max_features':['auto', 'sqrt', 'log2']}]\n",
    "\n",
    "# create the model\n",
    "model = RandomForestClassifier()\n",
    "\n",
    "# create the grid object\n",
    "grid_search = GridSearchCV(model, hp_grid, cv=5, scoring='accuracy', return_train_score=False)\n",
    "\n",
    "# grid search\n",
    "grid_search.fit(X_train, y_train)\n",
    "\n",
    "#store the results of the grid search in the variable results\n",
    "results = grid_search.cv_results_\n",
    "\n",
    "#print out the results of the grid search\n",
    "for mean_score, params in zip(results['mean_test_score'], results['params']):\n",
    "       print(mean_score, params)\n",
    "\n",
    "#Store the best variable in the classifier the_best\n",
    "the_best = grid_search.best_estimator_\n",
    "\n",
    "#fit the_best and store it in the variable classifier\n",
    "classifier = the_best.fit(X_train, y_train)\n",
    "\n",
    "#y_hat represents the classifiers predicitons\n",
    "y_hat = classifier.predict(X_test)\n",
    "\n",
    "print(\"y_hat:\", y_hat)\n",
    "print(\"y_test:\", y_test)\n",
    "print(accuracy_score(y_hat, y_test))\n",
    "\n",
    "#save the model\n",
    "filename = 'RF_model.sav'\n",
    "#joblib.dump(classifier, filename)"
   ]
  }
 ],
 "metadata": {
  "kernelspec": {
   "display_name": "Python 3",
   "language": "python",
   "name": "python3"
  },
  "language_info": {
   "codemirror_mode": {
    "name": "ipython",
    "version": 3
   },
   "file_extension": ".py",
   "mimetype": "text/x-python",
   "name": "python",
   "nbconvert_exporter": "python",
   "pygments_lexer": "ipython3",
   "version": "3.8.5"
  }
 },
 "nbformat": 4,
 "nbformat_minor": 4
}
