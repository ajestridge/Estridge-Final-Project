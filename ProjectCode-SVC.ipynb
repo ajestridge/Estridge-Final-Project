{
 "cells": [
  {
   "cell_type": "code",
   "execution_count": 7,
   "metadata": {},
   "outputs": [
    {
     "name": "stdout",
     "output_type": "stream",
     "text": [
      "0.6613333333333333 {'gamma': 'scale', 'kernel': 'linear'}\n",
      "0.661 {'gamma': 'scale', 'kernel': 'poly'}\n",
      "0.5866666666666667 {'gamma': 'scale', 'kernel': 'rbf'}\n",
      "0.5866666666666667 {'gamma': 'scale', 'kernel': 'sigmoid'}\n",
      "0.6613333333333333 {'gamma': 'auto', 'kernel': 'linear'}\n",
      "0.5710000000000001 {'gamma': 'auto', 'kernel': 'poly'}\n",
      "0.5866666666666667 {'gamma': 'auto', 'kernel': 'rbf'}\n",
      "0.5866666666666667 {'gamma': 'auto', 'kernel': 'sigmoid'}\n",
      "y_hat: [0 1 1 1 0 1 1 1 1 0 1 1 1 0]\n",
      "y_test: [0 1 0 1 1 1 1 1 1 1 1 0 1 1]\n",
      "0.6428571428571429\n"
     ]
    },
    {
     "data": {
      "text/plain": [
       "['SVC_model.sav']"
      ]
     },
     "execution_count": 7,
     "metadata": {},
     "output_type": "execute_result"
    }
   ],
   "source": [
    "import pandas as pd\n",
    "import numpy as np\n",
    "from sklearn.svm import SVC\n",
    "from sklearn.ensemble import RandomForestClassifier\n",
    "from sklearn.linear_model import SGDClassifier\n",
    "from sklearn.model_selection import cross_val_predict\n",
    "from sklearn.ensemble import AdaBoostClassifier\n",
    "import joblib\n",
    "from sklearn.metrics import precision_score\n",
    "from sklearn.metrics import recall_score\n",
    "from sklearn.metrics import f1_score\n",
    "from sklearn.metrics import accuracy_score\n",
    "from sklearn.utils import shuffle\n",
    "from sklearn.model_selection import train_test_split\n",
    "\n",
    "#Read in data\n",
    "df = pd.read_excel('nfl.xlsx')\n",
    "\n",
    "#Create x any y where x is the data and y is the target\n",
    "x = df[df.columns[:-1]].to_numpy()\n",
    "y = df[df.columns[-1]].to_numpy()\n",
    "\n",
    "#Split the data into training data and testing data\n",
    "X_train, X_test, y_train, y_test = train_test_split(x, y, test_size=0.1, random_state=33) # .1 33\n",
    "\n",
    "from sklearn.model_selection import GridSearchCV\n",
    "from sklearn.pipeline import Pipeline\n",
    "from sklearn.preprocessing import StandardScaler\n",
    "\n",
    "# hyperparameter grid\n",
    "hp_grid = [{'kernel':['linear','poly','rbf','sigmoid'], 'gamma':['scale', 'auto']}]\n",
    "\n",
    "# create the model\n",
    "model = SVC()\n",
    "\n",
    "# create the grid object\n",
    "grid_search = GridSearchCV(model, hp_grid, cv=5, scoring='accuracy', return_train_score=False)\n",
    "\n",
    "\n",
    "# grid search\n",
    "grid_search.fit(X_train, y_train)\n",
    "results = grid_search.cv_results_\n",
    "\n",
    "#Print out all of the grid search scores\n",
    "for mean_score, params in zip(results['mean_test_score'], results['params']):\n",
    "       print(mean_score, params)\n",
    "\n",
    "#store the best classifier into the variable the_best\n",
    "the_best = grid_search.best_estimator_\n",
    "\n",
    "#fit the_best and store it in classifier\n",
    "classifier = the_best.fit(X_train, y_train)\n",
    "\n",
    "#Have the classifier make predicitons and store it in y_hat\n",
    "y_hat = classifier.predict(X_test)\n",
    "\n",
    "print(\"y_hat:\", y_hat)\n",
    "print(\"y_test:\", y_test)\n",
    "print(accuracy_score(y_hat, y_test))\n",
    "\n",
    "#save the best model\n",
    "filename = 'SVC_model.sav'\n",
    "#joblib.dump(classifier, filename)"
   ]
  }
 ],
 "metadata": {
  "kernelspec": {
   "display_name": "Python 3",
   "language": "python",
   "name": "python3"
  },
  "language_info": {
   "codemirror_mode": {
    "name": "ipython",
    "version": 3
   },
   "file_extension": ".py",
   "mimetype": "text/x-python",
   "name": "python",
   "nbconvert_exporter": "python",
   "pygments_lexer": "ipython3",
   "version": "3.8.5"
  }
 },
 "nbformat": 4,
 "nbformat_minor": 4
}
